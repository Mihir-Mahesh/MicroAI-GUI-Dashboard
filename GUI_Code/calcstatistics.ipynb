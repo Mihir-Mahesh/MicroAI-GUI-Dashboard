{
 "cells": [
  {
   "cell_type": "markdown",
   "id": "de42dd07",
   "metadata": {
    "papermill": {
     "duration": 0.00651,
     "end_time": "2022-07-20T16:36:47.258063",
     "exception": false,
     "start_time": "2022-07-20T16:36:47.251553",
     "status": "completed"
    },
    "tags": []
   },
   "source": [
    "# Creating Statistical Values for 5 Sets of Computer Data"
   ]
  },
  {
   "cell_type": "markdown",
   "id": "b946dfa5",
   "metadata": {
    "papermill": {
     "duration": 0.006191,
     "end_time": "2022-07-20T16:36:47.270981",
     "exception": false,
     "start_time": "2022-07-20T16:36:47.264790",
     "status": "completed"
    },
    "tags": []
   },
   "source": [
    "## Computer Values:\n",
    "\n",
    "Percent of RAM being used\n",
    "\n",
    "Disc reads\n",
    "\n",
    "Disc writes\n",
    "\n",
    "Network Uploads\n",
    "\n",
    "Network Downloads"
   ]
  },
  {
   "cell_type": "markdown",
   "id": "05fc572b",
   "metadata": {
    "papermill": {
     "duration": 0.006202,
     "end_time": "2022-07-20T16:36:47.283833",
     "exception": false,
     "start_time": "2022-07-20T16:36:47.277631",
     "status": "completed"
    },
    "tags": []
   },
   "source": [
    "## Statistical Values:\n",
    "\n",
    "Mean\n",
    "\n",
    "Median\n",
    "\n",
    "Variance\n",
    "\n",
    "Standard Deviation\n",
    "\n",
    "Linear Regression\n",
    "\n",
    "Quadratic Regression\n",
    "\n",
    "Integral"
   ]
  },
  {
   "cell_type": "markdown",
   "id": "030db7e8",
   "metadata": {
    "papermill": {
     "duration": 0.006769,
     "end_time": "2022-07-20T16:36:47.297161",
     "exception": false,
     "start_time": "2022-07-20T16:36:47.290392",
     "status": "completed"
    },
    "tags": []
   },
   "source": [
    "imports"
   ]
  },
  {
   "cell_type": "code",
   "execution_count": 2,
   "id": "b5dc5e04",
   "metadata": {
    "execution": {
     "iopub.execute_input": "2022-07-20T16:36:47.314705Z",
     "iopub.status.busy": "2022-07-20T16:36:47.312953Z",
     "iopub.status.idle": "2022-07-20T16:36:47.319440Z",
     "shell.execute_reply": "2022-07-20T16:36:47.318319Z"
    },
    "papermill": {
     "duration": 0.017677,
     "end_time": "2022-07-20T16:36:47.321912",
     "exception": false,
     "start_time": "2022-07-20T16:36:47.304235",
     "status": "completed"
    },
    "tags": []
   },
   "outputs": [],
   "source": [
    "import psutil\n",
    "import time\n",
    "import matplotlib.pyplot as plt"
   ]
  },
  {
   "cell_type": "markdown",
   "id": "30094cdb",
   "metadata": {
    "papermill": {
     "duration": 0.007062,
     "end_time": "2022-07-20T16:36:47.335839",
     "exception": false,
     "start_time": "2022-07-20T16:36:47.328777",
     "status": "completed"
    },
    "tags": []
   },
   "source": [
    "## Configurables"
   ]
  },
  {
   "cell_type": "markdown",
   "id": "96114b6e",
   "metadata": {
    "papermill": {
     "duration": 0.00661,
     "end_time": "2022-07-20T16:36:47.349267",
     "exception": false,
     "start_time": "2022-07-20T16:36:47.342657",
     "status": "completed"
    },
    "tags": []
   },
   "source": [
    "df will be the csv file. If you need a custom csv file, make df equal to that file. The custom csv must have only 5 columns. Set col 1-5 equal to the column names.\n",
    "Otherwise, set df to be a string called default. If it is default, it will be a csv file of the computer values."
   ]
  },
  {
   "cell_type": "code",
   "execution_count": 3,
   "id": "f16baf03",
   "metadata": {
    "execution": {
     "iopub.execute_input": "2022-07-20T16:36:47.365183Z",
     "iopub.status.busy": "2022-07-20T16:36:47.364410Z",
     "iopub.status.idle": "2022-07-20T16:36:47.369062Z",
     "shell.execute_reply": "2022-07-20T16:36:47.368287Z"
    },
    "papermill": {
     "duration": 0.015226,
     "end_time": "2022-07-20T16:36:47.371353",
     "exception": false,
     "start_time": "2022-07-20T16:36:47.356127",
     "status": "completed"
    },
    "tags": []
   },
   "outputs": [],
   "source": [
    "df = \"default\"\n",
    "\n",
    "col1 = \"RAM\"\n",
    "col2 = \"DISC READS\"\n",
    "col3 = \"DISC WRITES\"\n",
    "col4 = \"NETWORK UPLOADS\"\n",
    "col5 = \"NETWORK DOWNLOADS\""
   ]
  },
  {
   "cell_type": "markdown",
   "id": "743ec9b8",
   "metadata": {
    "papermill": {
     "duration": 0.006948,
     "end_time": "2022-07-20T16:36:47.385131",
     "exception": false,
     "start_time": "2022-07-20T16:36:47.378183",
     "status": "completed"
    },
    "tags": []
   },
   "source": [
    "collecting_seconds is how long you want the data to be collected for. If you already have a custom csv file, set collecting_seconds to 0."
   ]
  },
  {
   "cell_type": "code",
   "execution_count": 4,
   "id": "2ae16fff",
   "metadata": {
    "execution": {
     "iopub.execute_input": "2022-07-20T16:36:47.401468Z",
     "iopub.status.busy": "2022-07-20T16:36:47.400680Z",
     "iopub.status.idle": "2022-07-20T16:36:47.405097Z",
     "shell.execute_reply": "2022-07-20T16:36:47.404265Z"
    },
    "papermill": {
     "duration": 0.015511,
     "end_time": "2022-07-20T16:36:47.407429",
     "exception": false,
     "start_time": "2022-07-20T16:36:47.391918",
     "status": "completed"
    },
    "tags": []
   },
   "outputs": [],
   "source": [
    "collecting_seconds = 60"
   ]
  },
  {
   "cell_type": "markdown",
   "id": "c553b899",
   "metadata": {
    "papermill": {
     "duration": 0.006846,
     "end_time": "2022-07-20T16:36:47.420845",
     "exception": false,
     "start_time": "2022-07-20T16:36:47.413999",
     "status": "completed"
    },
    "tags": []
   },
   "source": [
    "## Class to calculate the data"
   ]
  },
  {
   "cell_type": "code",
   "execution_count": 5,
   "id": "f46ccdf4",
   "metadata": {
    "_kg_hide-input": true,
    "execution": {
     "iopub.execute_input": "2022-07-20T16:36:47.437511Z",
     "iopub.status.busy": "2022-07-20T16:36:47.436822Z",
     "iopub.status.idle": "2022-07-20T16:36:47.472894Z",
     "shell.execute_reply": "2022-07-20T16:36:47.471711Z"
    },
    "papermill": {
     "duration": 0.048171,
     "end_time": "2022-07-20T16:36:47.475882",
     "exception": false,
     "start_time": "2022-07-20T16:36:47.427711",
     "status": "completed"
    },
    "tags": []
   },
   "outputs": [],
   "source": [
    "class data_output:\n",
    "    def __init__(self, values):\n",
    "        vals = values\n",
    "        self.getvals = values\n",
    "        def mean_calc(vals):\n",
    "            return sum(vals)/len(vals)\n",
    "        self.mean = mean_calc(vals)\n",
    "        def median_calc(vals):\n",
    "            sorted_list = []\n",
    "            for val in vals:\n",
    "                sorted_list.append(val)\n",
    "            sorted_list.sort()\n",
    "            if (len(sorted_list)%2 == 0): #if there are an even number of values\n",
    "                median = (sorted_list[int(len(sorted_list)/2 - 1)] + sorted_list[int(len(sorted_list)/2)])/2\n",
    "            else: #if there are an odd number of values\n",
    "                median = sorted_list[int(len(sorted_list)/2)]\n",
    "            return median\n",
    "        self.median = median_calc(vals)\n",
    "        def variance_calc(vals):    \n",
    "            summed_vals = 0\n",
    "            for val in vals:\n",
    "                summed_vals += (val - self.mean) * (val - self.mean) #creating the sum\n",
    "            return summed_vals/len(vals) #dividing the sum by the number of values\n",
    "        def stdev_calc(vals):\n",
    "            return variance_calc(vals)**(1/2) #square rooting the variance\n",
    "\n",
    "        self.variance = variance_calc(vals)\n",
    "        self.standard_deviation = stdev_calc(vals)\n",
    "        \n",
    "        def x_calc(vals):\n",
    "            x_vals = []\n",
    "            for val in vals: #will loop for the amount of values there are in vals\n",
    "                x_vals.append(len(x_vals) + 1) #x_vals will start at one and count \n",
    "                                               #up by one until the loop ends\n",
    "            return x_vals\n",
    "\n",
    "        def linreg_calc(vals):\n",
    "            x_vals = x_calc(vals)\n",
    "            \n",
    "            sumy = sum(vals)\n",
    "            sumx2 = 0\n",
    "            for i in x_vals:\n",
    "                sumx2 += i * i\n",
    "            sumx = sum(x_vals)\n",
    "            sumxy = 0\n",
    "            index = 0\n",
    "            while index < len(vals):\n",
    "                sumxy += vals[index] * x_vals[index]\n",
    "                index += 1\n",
    "            n = len(vals)\n",
    "            \n",
    "            a = (sumy * sumx2 - sumx * sumxy)/(n * sumx2 - sumx * sumx)\n",
    "            \n",
    "            b = (n * sumxy - sumx * sumy)/(n * sumx2 - sumx * sumx)\n",
    "            \n",
    "            return str(\"{:.2f}\".format(b)) + \"x\" + \" + \" + str(\"{:.2f}\".format(a))\n",
    "        self.linreg = linreg_calc(vals)\n",
    "        \n",
    "        \n",
    "        def quadreg_calc(vals):\n",
    "            #god save my soul\n",
    "            x_vals = x_calc(vals)\n",
    "            sumx = sum(x_vals)\n",
    "            sumy = sum(vals)\n",
    "            n = len(vals)\n",
    "            \n",
    "            sumx2 = 0\n",
    "            for i in x_vals:\n",
    "                sumx2 += i * i\n",
    "            ssumx2 = sumx2\n",
    "            sumx2 -= sumx * sumx / n\n",
    "            \n",
    "            \n",
    "            sumxy = 0\n",
    "            index = 0\n",
    "            while index < len(vals):\n",
    "                sumxy += vals[index] * x_vals[index]\n",
    "                index += 1\n",
    "            nspacexy = sumxy\n",
    "            sumxy -= sumx * sumy / n\n",
    "            \n",
    "            \n",
    "            sumx3 = 0\n",
    "            for i in x_vals:\n",
    "                sumx3 += i * i * i\n",
    "            ssumx3 = sumx3\n",
    "            sumx3 -= ssumx2 * sumx / n\n",
    "            \n",
    "            sumx2y = 0\n",
    "            index = 0\n",
    "            while index < len(vals):\n",
    "                sumx2y += vals[index] * x_vals[index] * x_vals[index]\n",
    "                index += 1\n",
    "            nspacex2y = sumx2y\n",
    "            sumx2y -= ssumx2 * sumy / n\n",
    "            \n",
    "            sumx4 = 0\n",
    "            for i in x_vals:\n",
    "                sumx4 += i * i * i * i\n",
    "            ssumx4 = sumx4\n",
    "            sumx4 -= ssumx2 * ssumx2 / n\n",
    "            \n",
    "            \n",
    "            c = (sumx2y * sumx2 - nspacexy * sumx3) / (sumx2 * sumx4 - sumx3 * sumx3)\n",
    "            b = (nspacexy * sumx4 - nspacex2y * sumx3) / (sumx2 * sumx4 - sumx3 * sumx3)\n",
    "            a = sumy / n - sumx / n * b - ssumx2 / n * c\n",
    "            res = str(\"{:.2f}\".format(c)) + \"x^2 + \" + str(\"{:.2f}\".format(b)) + \"x + \" + str(\"{:.2f}\".format(a))\n",
    "            return res\n",
    "        self.quadreg = quadreg_calc(vals)\n",
    "            \n",
    "\n",
    "        def integral_calc(vals):\n",
    "            x_vals = x_calc(vals)\n",
    "            l = 0\n",
    "            left_vals = []\n",
    "            r = 0\n",
    "            right_vals = []\n",
    "            a = 0\n",
    "            avg_vals = []\n",
    "            while l < len(vals) - 1: #left Riemann sum\n",
    "                left_vals.append((x_vals[l + 1] - x_vals[l]) * vals[l])\n",
    "                l += 1\n",
    "\n",
    "            while r < len(vals) - 1: #right Riemann sum\n",
    "                right_vals.append((x_vals[r + 1] - x_vals[r]) * vals[r + 1])\n",
    "                r += 1\n",
    "            #subtracted 1 in both of the while loop statements because \n",
    "            #otherwise there would be an \"index out of bounds\" error\n",
    "\n",
    "            while a < len(left_vals): #average\n",
    "                avg_vals.append((right_vals[a] + left_vals[a])/2)\n",
    "                a += 1\n",
    "            return sum(avg_vals) #sum\n",
    "        self.integral = integral_calc(vals)\n",
    "        print(\"mean: \" + str(\"{:.2f}\".format(self.mean)))\n",
    "        print(\"median: \" + str(\"{:.2f}\".format(self.median)))\n",
    "        print(\"variance: \" + str(\"{:.2f}\".format(self.variance)))\n",
    "        print(\"standard deviation: \" + str(\"{:.2f}\".format(self.standard_deviation)))\n",
    "        print(\"linear regression: \" + self.linreg)\n",
    "        print(\"quadratic regression: \" + self.quadreg)\n",
    "        print(\"integral: \" + str(\"{:.2f}\".format(self.integral)))\n",
    "\n",
    "    def get_graph_linear(self):\n",
    "        firstnum = float(self.linreg[0:self.linreg.find('x')])\n",
    "        lastnum = float(self.linreg[self.linreg.find(\"+\") + 2:])\n",
    "        return [firstnum, lastnum]\n",
    "\n",
    "    def get_graph_quadratic(self):\n",
    "        firstnum = float(self.quadreg[0:self.quadreg.find('x')])\n",
    "        secondnum = float(self.quadreg[self.quadreg.find(\"+\") + 2: self.quadreg.find('x ')])\n",
    "        lastnum = float(self.quadreg[self.quadreg.find('x ') + 4:])\n",
    "        return [firstnum, secondnum, lastnum]\n",
    "    "
   ]
  },
  {
   "cell_type": "markdown",
   "id": "737637f0",
   "metadata": {
    "papermill": {
     "duration": 0.006255,
     "end_time": "2022-07-20T16:36:47.488852",
     "exception": false,
     "start_time": "2022-07-20T16:36:47.482597",
     "status": "completed"
    },
    "tags": []
   },
   "source": [
    "## Class to input the data and format the output"
   ]
  },
  {
   "cell_type": "code",
   "execution_count": 6,
   "id": "1fa65317",
   "metadata": {
    "_kg_hide-input": true,
    "execution": {
     "iopub.execute_input": "2022-07-20T16:36:47.504174Z",
     "iopub.status.busy": "2022-07-20T16:36:47.503762Z",
     "iopub.status.idle": "2022-07-20T16:36:47.531772Z",
     "shell.execute_reply": "2022-07-20T16:36:47.530893Z"
    },
    "papermill": {
     "duration": 0.038727,
     "end_time": "2022-07-20T16:36:47.534311",
     "exception": false,
     "start_time": "2022-07-20T16:36:47.495584",
     "status": "completed"
    },
    "tags": []
   },
   "outputs": [],
   "source": [
    "class show_data:\n",
    "    global df\n",
    "    ram = []\n",
    "    discr = []\n",
    "    discw = []\n",
    "    netu = []\n",
    "    netd = []\n",
    "\n",
    "    classram = \"\"\n",
    "    classdiscr = \"\"\n",
    "    classdiscw = \"\"\n",
    "    classnetu = \"\"\n",
    "    classnetd = \"\"\n",
    "\n",
    "    def collect_data(t_need):\n",
    "        global df\n",
    "        global ram\n",
    "        global discr\n",
    "        global discw\n",
    "        global netu\n",
    "        global netd\n",
    "        start_time = time.time()\n",
    "        ram = []\n",
    "        discr = []\n",
    "        discw = []\n",
    "        netu = []\n",
    "        netd = []\n",
    "        while time.time() - start_time < t_need:\n",
    "            print(str(int((time.time() - start_time)/t_need * 100)) + \" percent complete      \", end = '')\n",
    "            ram.append(psutil.virtual_memory().percent)\n",
    "            discr.append(tuple(psutil.disk_io_counters())[0])\n",
    "            discw.append(tuple(psutil.disk_io_counters())[1])\n",
    "            netu.append(tuple(psutil.net_io_counters())[0])\n",
    "            netd.append(tuple(psutil.net_io_counters())[1])\n",
    "            \n",
    "            time.sleep(3)\n",
    "        if df == \"default\":    \n",
    "            df = pd.DataFrame(list(zip(ram, discr, discw, netu, netd)), \n",
    "                              columns =['RAM', 'DISC READS', 'DISC WRITES', 'NETWORK UPLOADS', 'NETWORK DOWNLOADS'])\n",
    "            df.to_csv('psutil', index=False)\n",
    "        \n",
    "        \n",
    "        print(\"\")\n",
    "        print(\"\")\n",
    "        \n",
    "    def show_ram():\n",
    "        global classram\n",
    "        global df\n",
    "        global col1\n",
    "        classram = data_output(df[col1].tolist())\n",
    "        show_data.plot(classram)\n",
    "\n",
    "    def show_disc_reads():\n",
    "        global classdiscr\n",
    "        global df\n",
    "        global col2\n",
    "        classdiscr = data_output(df[col2].tolist())\n",
    "        show_data.plot(classdiscr)\n",
    "\n",
    "    def show_disc_writes():\n",
    "        global classdiscw\n",
    "        global df\n",
    "        global col3\n",
    "        classdiscw = data_output(df[col3].tolist())\n",
    "        show_data.plot(classdiscw)\n",
    "    \n",
    "    def show_net_uploads():\n",
    "        global classnetu\n",
    "        global df\n",
    "        global col4\n",
    "        classnetu = data_output(df[col4].tolist())\n",
    "        show_data.plot(classnetu)\n",
    "        \n",
    "    def show_net_downloads():\n",
    "        global classnetd \n",
    "        global df\n",
    "        global col5\n",
    "        classnetd = data_output(df[col5].tolist())\n",
    "        show_data.plot(classnetd)\n",
    "    \n",
    "    def plot(data_outputer):\n",
    "        coeffs = data_outputer.get_graph_linear()\n",
    "        x = []\n",
    "        for i in data_outputer.getvals:\n",
    "            x.append(len(x))\n",
    "        \n",
    "        coefs = data_outputer.get_graph_quadratic()\n",
    "        z = []\n",
    "        for i in x:\n",
    "            z.append(coefs[0] * i * i + coefs[1] * i + coefs[2])\n",
    "\n",
    "        y = []\n",
    "        for i in x:\n",
    "            y.append(coeffs[0] * i + coeffs[1])\n",
    "\n",
    "        \n",
    "        \n",
    "       \n",
    "        plt.scatter(x, data_outputer.getvals, color = 'r')\n",
    "        plt.plot(x, y, color = 'b')\n",
    "        \n",
    "        plt.show()\n",
    "\n"
   ]
  },
  {
   "cell_type": "markdown",
   "id": "53e42095",
   "metadata": {
    "papermill": {
     "duration": 0.006921,
     "end_time": "2022-07-20T16:36:47.547945",
     "exception": false,
     "start_time": "2022-07-20T16:36:47.541024",
     "status": "completed"
    },
    "tags": []
   },
   "source": [
    "## Code to output the data"
   ]
  },
  {
   "cell_type": "code",
   "execution_count": 7,
   "id": "47edeb98",
   "metadata": {
    "execution": {
     "iopub.execute_input": "2022-07-20T16:36:47.563749Z",
     "iopub.status.busy": "2022-07-20T16:36:47.562632Z",
     "iopub.status.idle": "2022-07-20T16:37:47.702051Z",
     "shell.execute_reply": "2022-07-20T16:37:47.700776Z"
    },
    "papermill": {
     "duration": 60.150798,
     "end_time": "2022-07-20T16:37:47.705426",
     "exception": false,
     "start_time": "2022-07-20T16:36:47.554628",
     "status": "completed"
    },
    "tags": []
   },
   "outputs": [
    {
     "name": "stdout",
     "output_type": "stream",
     "text": [
      "0 percent complete      5 percent complete      10 percent complete      15 percent complete      20 percent complete      25 percent complete      30 percent complete      35 percent complete      40 percent complete      45 percent complete      50 percent complete      55 percent complete      60 percent complete      65 percent complete      70 percent complete      75 percent complete      80 percent complete      85 percent complete      90 percent complete      95 percent complete      \n",
      "\n"
     ]
    },
    {
     "data": {
      "text/html": [
       "<div>\n",
       "<style scoped>\n",
       "    .dataframe tbody tr th:only-of-type {\n",
       "        vertical-align: middle;\n",
       "    }\n",
       "\n",
       "    .dataframe tbody tr th {\n",
       "        vertical-align: top;\n",
       "    }\n",
       "\n",
       "    .dataframe thead th {\n",
       "        text-align: right;\n",
       "    }\n",
       "</style>\n",
       "<table border=\"1\" class=\"dataframe\">\n",
       "  <thead>\n",
       "    <tr style=\"text-align: right;\">\n",
       "      <th></th>\n",
       "      <th>RAM</th>\n",
       "      <th>DISC READS</th>\n",
       "      <th>DISC WRITES</th>\n",
       "      <th>NETWORK UPLOADS</th>\n",
       "      <th>NETWORK DOWNLOADS</th>\n",
       "    </tr>\n",
       "  </thead>\n",
       "  <tbody>\n",
       "    <tr>\n",
       "      <th>0</th>\n",
       "      <td>4.7</td>\n",
       "      <td>372393</td>\n",
       "      <td>647886</td>\n",
       "      <td>93421</td>\n",
       "      <td>94087</td>\n",
       "    </tr>\n",
       "    <tr>\n",
       "      <th>1</th>\n",
       "      <td>4.7</td>\n",
       "      <td>372395</td>\n",
       "      <td>648110</td>\n",
       "      <td>94665</td>\n",
       "      <td>95331</td>\n",
       "    </tr>\n",
       "    <tr>\n",
       "      <th>2</th>\n",
       "      <td>4.7</td>\n",
       "      <td>372395</td>\n",
       "      <td>648127</td>\n",
       "      <td>95857</td>\n",
       "      <td>96523</td>\n",
       "    </tr>\n",
       "    <tr>\n",
       "      <th>3</th>\n",
       "      <td>4.7</td>\n",
       "      <td>372397</td>\n",
       "      <td>648143</td>\n",
       "      <td>97050</td>\n",
       "      <td>97716</td>\n",
       "    </tr>\n",
       "    <tr>\n",
       "      <th>4</th>\n",
       "      <td>4.7</td>\n",
       "      <td>372397</td>\n",
       "      <td>648143</td>\n",
       "      <td>98243</td>\n",
       "      <td>98909</td>\n",
       "    </tr>\n",
       "    <tr>\n",
       "      <th>5</th>\n",
       "      <td>4.7</td>\n",
       "      <td>372397</td>\n",
       "      <td>648408</td>\n",
       "      <td>99436</td>\n",
       "      <td>100102</td>\n",
       "    </tr>\n",
       "    <tr>\n",
       "      <th>6</th>\n",
       "      <td>4.7</td>\n",
       "      <td>372398</td>\n",
       "      <td>648428</td>\n",
       "      <td>100629</td>\n",
       "      <td>101295</td>\n",
       "    </tr>\n",
       "    <tr>\n",
       "      <th>7</th>\n",
       "      <td>4.7</td>\n",
       "      <td>372398</td>\n",
       "      <td>648460</td>\n",
       "      <td>101822</td>\n",
       "      <td>102488</td>\n",
       "    </tr>\n",
       "    <tr>\n",
       "      <th>8</th>\n",
       "      <td>4.7</td>\n",
       "      <td>372400</td>\n",
       "      <td>648476</td>\n",
       "      <td>103015</td>\n",
       "      <td>103681</td>\n",
       "    </tr>\n",
       "    <tr>\n",
       "      <th>9</th>\n",
       "      <td>4.7</td>\n",
       "      <td>372401</td>\n",
       "      <td>648491</td>\n",
       "      <td>104208</td>\n",
       "      <td>104874</td>\n",
       "    </tr>\n",
       "    <tr>\n",
       "      <th>10</th>\n",
       "      <td>4.7</td>\n",
       "      <td>372464</td>\n",
       "      <td>648499</td>\n",
       "      <td>105401</td>\n",
       "      <td>106067</td>\n",
       "    </tr>\n",
       "    <tr>\n",
       "      <th>11</th>\n",
       "      <td>4.7</td>\n",
       "      <td>372466</td>\n",
       "      <td>648527</td>\n",
       "      <td>106594</td>\n",
       "      <td>107260</td>\n",
       "    </tr>\n",
       "    <tr>\n",
       "      <th>12</th>\n",
       "      <td>4.7</td>\n",
       "      <td>372466</td>\n",
       "      <td>648527</td>\n",
       "      <td>107787</td>\n",
       "      <td>108453</td>\n",
       "    </tr>\n",
       "    <tr>\n",
       "      <th>13</th>\n",
       "      <td>4.7</td>\n",
       "      <td>372466</td>\n",
       "      <td>648552</td>\n",
       "      <td>108980</td>\n",
       "      <td>109646</td>\n",
       "    </tr>\n",
       "    <tr>\n",
       "      <th>14</th>\n",
       "      <td>4.7</td>\n",
       "      <td>372467</td>\n",
       "      <td>648567</td>\n",
       "      <td>110173</td>\n",
       "      <td>110839</td>\n",
       "    </tr>\n",
       "    <tr>\n",
       "      <th>15</th>\n",
       "      <td>4.7</td>\n",
       "      <td>372467</td>\n",
       "      <td>648640</td>\n",
       "      <td>111366</td>\n",
       "      <td>112032</td>\n",
       "    </tr>\n",
       "    <tr>\n",
       "      <th>16</th>\n",
       "      <td>4.7</td>\n",
       "      <td>372469</td>\n",
       "      <td>648673</td>\n",
       "      <td>112559</td>\n",
       "      <td>113225</td>\n",
       "    </tr>\n",
       "    <tr>\n",
       "      <th>17</th>\n",
       "      <td>4.7</td>\n",
       "      <td>372469</td>\n",
       "      <td>648687</td>\n",
       "      <td>113752</td>\n",
       "      <td>114418</td>\n",
       "    </tr>\n",
       "    <tr>\n",
       "      <th>18</th>\n",
       "      <td>4.7</td>\n",
       "      <td>372470</td>\n",
       "      <td>648702</td>\n",
       "      <td>114945</td>\n",
       "      <td>115611</td>\n",
       "    </tr>\n",
       "    <tr>\n",
       "      <th>19</th>\n",
       "      <td>4.7</td>\n",
       "      <td>372470</td>\n",
       "      <td>648713</td>\n",
       "      <td>116138</td>\n",
       "      <td>116804</td>\n",
       "    </tr>\n",
       "  </tbody>\n",
       "</table>\n",
       "</div>"
      ],
      "text/plain": [
       "    RAM  DISC READS  DISC WRITES  NETWORK UPLOADS  NETWORK DOWNLOADS\n",
       "0   4.7      372393       647886            93421              94087\n",
       "1   4.7      372395       648110            94665              95331\n",
       "2   4.7      372395       648127            95857              96523\n",
       "3   4.7      372397       648143            97050              97716\n",
       "4   4.7      372397       648143            98243              98909\n",
       "5   4.7      372397       648408            99436             100102\n",
       "6   4.7      372398       648428           100629             101295\n",
       "7   4.7      372398       648460           101822             102488\n",
       "8   4.7      372400       648476           103015             103681\n",
       "9   4.7      372401       648491           104208             104874\n",
       "10  4.7      372464       648499           105401             106067\n",
       "11  4.7      372466       648527           106594             107260\n",
       "12  4.7      372466       648527           107787             108453\n",
       "13  4.7      372466       648552           108980             109646\n",
       "14  4.7      372467       648567           110173             110839\n",
       "15  4.7      372467       648640           111366             112032\n",
       "16  4.7      372469       648673           112559             113225\n",
       "17  4.7      372469       648687           113752             114418\n",
       "18  4.7      372470       648702           114945             115611\n",
       "19  4.7      372470       648713           116138             116804"
      ]
     },
     "execution_count": 7,
     "metadata": {},
     "output_type": "execute_result"
    }
   ],
   "source": [
    "show_data.collect_data(collecting_seconds)\n",
    "df"
   ]
  },
  {
   "cell_type": "markdown",
   "id": "d4e5fe26",
   "metadata": {
    "papermill": {
     "duration": 0.00828,
     "end_time": "2022-07-20T16:37:47.722777",
     "exception": false,
     "start_time": "2022-07-20T16:37:47.714497",
     "status": "completed"
    },
    "tags": []
   },
   "source": [
    "col1 statistical data"
   ]
  },
  {
   "cell_type": "code",
   "execution_count": 8,
   "id": "0e7e46d9",
   "metadata": {
    "execution": {
     "iopub.execute_input": "2022-07-20T16:37:47.743574Z",
     "iopub.status.busy": "2022-07-20T16:37:47.742842Z",
     "iopub.status.idle": "2022-07-20T16:37:47.994870Z",
     "shell.execute_reply": "2022-07-20T16:37:47.993230Z"
    },
    "papermill": {
     "duration": 0.265964,
     "end_time": "2022-07-20T16:37:47.997773",
     "exception": false,
     "start_time": "2022-07-20T16:37:47.731809",
     "status": "completed"
    },
    "tags": []
   },
   "outputs": [
    {
     "name": "stdout",
     "output_type": "stream",
     "text": [
      "mean: 4.70\n",
      "median: 4.70\n",
      "variance: 0.00\n",
      "standard deviation: 0.00\n",
      "linear regression: -0.00x + 4.70\n",
      "quadratic regression: -1.18x^2 + 10.14x + 67.63\n",
      "integral: 89.30\n"
     ]
    },
    {
     "data": {
      "image/png": "[encoded data removed]",
      "text/plain": [
       "<Figure size 432x288 with 1 Axes>"
      ]
     },
     "metadata": {
      "needs_background": "light"
     },
     "output_type": "display_data"
    }
   ],
   "source": [
    "show_data.show_ram()"
   ]
  },
  {
   "cell_type": "markdown",
   "id": "f62927da",
   "metadata": {
    "papermill": {
     "duration": 0.009173,
     "end_time": "2022-07-20T16:37:48.015960",
     "exception": false,
     "start_time": "2022-07-20T16:37:48.006787",
     "status": "completed"
    },
    "tags": []
   },
   "source": [
    "col2 statistical data"
   ]
  },
  {
   "cell_type": "code",
   "execution_count": 9,
   "id": "299f80fa",
   "metadata": {
    "execution": {
     "iopub.execute_input": "2022-07-20T16:37:48.037930Z",
     "iopub.status.busy": "2022-07-20T16:37:48.036320Z",
     "iopub.status.idle": "2022-07-20T16:37:48.236218Z",
     "shell.execute_reply": "2022-07-20T16:37:48.235168Z"
    },
    "papermill": {
     "duration": 0.216591,
     "end_time": "2022-07-20T16:37:48.241981",
     "exception": false,
     "start_time": "2022-07-20T16:37:48.025390",
     "status": "completed"
    },
    "tags": []
   },
   "outputs": [
    {
     "name": "stdout",
     "output_type": "stream",
     "text": [
      "mean: 372432.25\n",
      "median: 372432.50\n",
      "variance: 1239.89\n",
      "standard deviation: 35.21\n",
      "linear regression: 5.46x + 372374.93\n",
      "quadratic regression: -93553.56x^2 + 803675.17x + 5358779.02\n",
      "integral: 7076213.50\n"
     ]
    },
    {
     "data": {
      "image/png": "[encoded data removed]",
      "text/plain": [
       "<Figure size 432x288 with 1 Axes>"
      ]
     },
     "metadata": {
      "needs_background": "light"
     },
     "output_type": "display_data"
    }
   ],
   "source": [
    "show_data.show_disc_reads()"
   ]
  },
  {
   "cell_type": "markdown",
   "id": "ea81ab01",
   "metadata": {
    "papermill": {
     "duration": 0.009468,
     "end_time": "2022-07-20T16:37:48.266013",
     "exception": false,
     "start_time": "2022-07-20T16:37:48.256545",
     "status": "completed"
    },
    "tags": []
   },
   "source": [
    "col3 statistical data"
   ]
  },
  {
   "cell_type": "code",
   "execution_count": 10,
   "id": "ad71d236",
   "metadata": {
    "execution": {
     "iopub.execute_input": "2022-07-20T16:37:48.288421Z",
     "iopub.status.busy": "2022-07-20T16:37:48.287392Z",
     "iopub.status.idle": "2022-07-20T16:37:48.517948Z",
     "shell.execute_reply": "2022-07-20T16:37:48.516275Z"
    },
    "papermill": {
     "duration": 0.245261,
     "end_time": "2022-07-20T16:37:48.521070",
     "exception": false,
     "start_time": "2022-07-20T16:37:48.275809",
     "status": "completed"
    },
    "tags": []
   },
   "outputs": [
    {
     "name": "stdout",
     "output_type": "stream",
     "text": [
      "mean: 648437.95\n",
      "median: 648495.00\n",
      "variance: 52067.35\n",
      "standard deviation: 228.18\n",
      "linear regression: 37.09x + 648048.51\n",
      "quadratic regression: -162887.08x^2 + 1399338.77x + 9329676.26\n",
      "integral: 12320459.50\n"
     ]
    },
    {
     "data": {
      "image/png": "[encoded data removed]",
      "text/plain": [
       "<Figure size 432x288 with 1 Axes>"
      ]
     },
     "metadata": {
      "needs_background": "light"
     },
     "output_type": "display_data"
    }
   ],
   "source": [
    "show_data.show_disc_writes()"
   ]
  },
  {
   "cell_type": "markdown",
   "id": "c25f8b3d",
   "metadata": {
    "papermill": {
     "duration": 0.0112,
     "end_time": "2022-07-20T16:37:48.543695",
     "exception": false,
     "start_time": "2022-07-20T16:37:48.532495",
     "status": "completed"
    },
    "tags": []
   },
   "source": [
    "col4 statistical data"
   ]
  },
  {
   "cell_type": "code",
   "execution_count": 11,
   "id": "a799b0b9",
   "metadata": {
    "execution": {
     "iopub.execute_input": "2022-07-20T16:37:48.570925Z",
     "iopub.status.busy": "2022-07-20T16:37:48.569921Z",
     "iopub.status.idle": "2022-07-20T16:37:48.779472Z",
     "shell.execute_reply": "2022-07-20T16:37:48.777809Z"
    },
    "papermill": {
     "duration": 0.227112,
     "end_time": "2022-07-20T16:37:48.782729",
     "exception": false,
     "start_time": "2022-07-20T16:37:48.555617",
     "status": "completed"
    },
    "tags": []
   },
   "outputs": [
    {
     "name": "stdout",
     "output_type": "stream",
     "text": [
      "mean: 104802.05\n",
      "median: 104804.50\n",
      "variance: 47378801.75\n",
      "standard deviation: 6883.23\n",
      "linear regression: 1193.70x + 92268.18\n",
      "quadratic regression: -26326.03x^2 + 227348.86x + 1495424.93\n",
      "integral: 1991261.50\n"
     ]
    },
    {
     "data": {
      "image/png": "[encoded data removed]",
      "text/plain": [
       "<Figure size 432x288 with 1 Axes>"
      ]
     },
     "metadata": {
      "needs_background": "light"
     },
     "output_type": "display_data"
    }
   ],
   "source": [
    "show_data.show_net_uploads()"
   ]
  },
  {
   "cell_type": "markdown",
   "id": "50476974",
   "metadata": {
    "papermill": {
     "duration": 0.01118,
     "end_time": "2022-07-20T16:37:48.810859",
     "exception": false,
     "start_time": "2022-07-20T16:37:48.799679",
     "status": "completed"
    },
    "tags": []
   },
   "source": [
    "col5 statistical data"
   ]
  },
  {
   "cell_type": "code",
   "execution_count": 12,
   "id": "9dae5f6b",
   "metadata": {
    "execution": {
     "iopub.execute_input": "2022-07-20T16:37:48.835166Z",
     "iopub.status.busy": "2022-07-20T16:37:48.834754Z",
     "iopub.status.idle": "2022-07-20T16:37:49.036932Z",
     "shell.execute_reply": "2022-07-20T16:37:49.035314Z"
    },
    "papermill": {
     "duration": 0.21769,
     "end_time": "2022-07-20T16:37:49.039775",
     "exception": false,
     "start_time": "2022-07-20T16:37:48.822085",
     "status": "completed"
    },
    "tags": []
   },
   "outputs": [
    {
     "name": "stdout",
     "output_type": "stream",
     "text": [
      "mean: 105468.05\n",
      "median: 105470.50\n",
      "variance: 47378801.75\n",
      "standard deviation: 6883.23\n",
      "linear regression: 1193.70x + 92934.18\n",
      "quadratic regression: -26493.33x^2 + 228786.01x + 1505007.84\n",
      "integral: 2003915.50\n"
     ]
    },
    {
     "data": {
      "image/png": "[encoded data removed]",
      "text/plain": [
       "<Figure size 432x288 with 1 Axes>"
      ]
     },
     "metadata": {
      "needs_background": "light"
     },
     "output_type": "display_data"
    }
   ],
   "source": [
    "show_data.show_net_downloads()"
   ]
  }
 ],
 "metadata": {
  "kernelspec": {
   "display_name": "Python 3",
   "language": "python",
   "name": "python3"
  },
  "language_info": {
   "codemirror_mode": {
    "name": "ipython",
    "version": 3
   },
   "file_extension": ".py",
   "mimetype": "text/x-python",
   "name": "python",
   "nbconvert_exporter": "python",
   "pygments_lexer": "ipython3",
   "version": "3.7.12"
  },
  "papermill": {
   "default_parameters": {},
   "duration": 74.440492,
   "end_time": "2022-07-20T16:37:49.775700",
   "environment_variables": {},
   "exception": null,
   "input_path": "__notebook__.ipynb",
   "output_path": "__notebook__.ipynb",
   "parameters": {},
   "start_time": "2022-07-20T16:36:35.335208",
   "version": "2.3.4"
  }
 },
 "nbformat": 4,
 "nbformat_minor": 5
}
