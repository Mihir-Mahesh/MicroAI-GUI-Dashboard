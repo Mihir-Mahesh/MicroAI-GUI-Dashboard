{
 "cells": [
  {
   "cell_type": "markdown",
   "id": "c3ee82ed",
   "metadata": {},
   "source": [
    "# Calculating Statistics Without Imports\n",
    "Creating statistical values without using any imported libraries\n",
    "\n",
    "\n"
   ]
  },
  {
   "cell_type": "markdown",
   "id": "5d264a6e",
   "metadata": {},
   "source": [
    "syntax used:\n",
    "\n",
    "len() - returns the length of a list (used to find the amount of values in a list)\n",
    "\n",
    "sum() - returns the sum of all the values in the list\n",
    "\n",
    ".append() - adds a value to the end of the list that it is appending to\n",
    "\n",
    "** - exponent\n",
    "\n",
    "\\* - multiplication\n",
    "\n",
    "/ - division\n",
    "\n",
    "\\+ - addition\n",
    "\n",
    "\\- - subtraction\n"
   ]
  },
  {
   "cell_type": "markdown",
   "id": "68e9bc1e",
   "metadata": {},
   "source": [
    "imports (to create the data)"
   ]
  },
  {
   "cell_type": "code",
   "execution_count": 1,
   "id": "0d07f413",
   "metadata": {},
   "outputs": [],
   "source": [
    "import psutil\n",
    "import time"
   ]
  },
  {
   "cell_type": "markdown",
   "id": "2b8b43cb",
   "metadata": {},
   "source": [
    "The data will be added here. To change the input data, change the i_val variable."
   ]
  },
  {
   "cell_type": "code",
   "execution_count": 8,
   "id": "d4046192",
   "metadata": {},
   "outputs": [],
   "source": [
    "vals = []\n",
    "i_val = psutil.cpu_percent\n",
    "start_time = time.time()\n",
    "while time.time() - start_time < 60:\n",
    "    vals.append(i_val(1))"
   ]
  },
  {
   "cell_type": "markdown",
   "id": "efbd8025",
   "metadata": {},
   "source": [
    "Here, I am calculating the mean. I do this by taking the sum of all the values in the list and divide that by the total number of values in the list."
   ]
  },
  {
   "cell_type": "code",
   "execution_count": 3,
   "id": "1839561d",
   "metadata": {},
   "outputs": [],
   "source": [
    "mean = sum(vals)/len(vals)"
   ]
  },
  {
   "cell_type": "markdown",
   "id": "8cba0398",
   "metadata": {},
   "source": [
    "Next, I am calculating the median. In a sorted list, if the number of values is even, the median is the average of the two values that are at the exact middle of the list. If the number of values is odd, the median is the value that is at the exact middle of the list."
   ]
  },
  {
   "cell_type": "code",
   "execution_count": 4,
   "id": "9be225f8",
   "metadata": {},
   "outputs": [],
   "source": [
    "sorted_list = []\n",
    "for val in vals:\n",
    "    sorted_list.append(val)\n",
    "sorted_list.sort()\n",
    "if (len(sorted_list)%2 == 0): #if there are an even number of values\n",
    "    median = (sorted_list[int(len(sorted_list)/2 - 1)] + sorted_list[int(len(sorted_list)/2)])/2\n",
    "else: #if there are an odd number of values\n",
    "    median = sorted_list[int(len(sorted_list)/2)]"
   ]
  },
  {
   "cell_type": "markdown",
   "id": "9a766f63",
   "metadata": {},
   "source": [
    "Now, I am calculating the variance and standard deviation. The variance is a multi-part equation. The equation starts with the sum of the difference between the values in the list and the mean squared. The sum is then divided by the number of values in the list, which gives the variance. The standard deviation is the square root of the variance."
   ]
  },
  {
   "cell_type": "code",
   "execution_count": 5,
   "id": "53205ccf",
   "metadata": {},
   "outputs": [],
   "source": [
    "summed_vals = 0\n",
    "for val in vals:\n",
    "    summed_vals += (val - mean) * (val - mean) #creating the sum\n",
    "variance = summed_vals/len(vals) #dividing the sum by the number of values\n",
    "standard_deviation = variance**(1/2) #square rooting the variance"
   ]
  },
  {
   "cell_type": "markdown",
   "id": "5a61f7bf",
   "metadata": {},
   "source": [
    "Finally I am calculating the derivative at all of the values of the list and the integral (area under the curve) of the list (assuming the list is the y-values).\n",
    "\n",
    "The derivative is approxamated by the average between the slope of the index and the points before and after the index. If it is the first or last index, then it is the slope of the index and the point before or after the index.\n",
    "\n",
    "The integral is aproxamatted by trapazoidal Riemann sums. A left or right Riemann sum is the sum of all rectangles that can fit under a cruve with a height of where the graph touches the rectangle on the top left (left Riemann Sum) or top right (right Riemann Sum) and the width of the distance between one x value and the next x value. The trapizoidal sum is when the sum of the average between the left and right Riemann sum's rectangles at each point."
   ]
  },
  {
   "cell_type": "code",
   "execution_count": 6,
   "id": "44743ab8",
   "metadata": {},
   "outputs": [],
   "source": [
    "x_vals = []\n",
    "for val in vals: #will loop for the amount of values there are in vals\n",
    "    x_vals.append(len(x_vals) + 1) #x_vals will start at one and count \n",
    "                                   #up by one until the loop ends\n",
    "    \n",
    "#derivative\n",
    "i = 0\n",
    "derivative_vals = []\n",
    "while i < len(vals): \n",
    "    if i == 0: #first index\n",
    "        derivative_vals.append((vals[i + 1] - vals[i])/(x_vals[i + 1] - x_vals[i]))\n",
    "    elif i == len(vals) - 1: #last index\n",
    "        derivative_vals.append((vals[i] - vals[i - 1])/(x_vals[i] - x_vals[i - 1]))\n",
    "    else: #all other indexes\n",
    "        val1 = (vals[i] - vals[i - 1])/(x_vals[i] - x_vals[i - 1])\n",
    "        val2 = (vals[i + 1] - vals[i])/(x_vals[i + 1] - x_vals[i])\n",
    "        avg_val = (val1 + val2)/2\n",
    "        derivative_vals.append(avg_val)\n",
    "    i += 1\n",
    "\n",
    "#integral\n",
    "l = 0\n",
    "left_vals = []\n",
    "r = 0\n",
    "right_vals = []\n",
    "a = 0\n",
    "avg_vals = []\n",
    "while l < len(vals) - 1: #left Riemann sum\n",
    "    left_vals.append((x_vals[l + 1] - x_vals[l]) * vals[l])\n",
    "    l += 1\n",
    "\n",
    "while r < len(vals) - 1: #right Riemann sum\n",
    "    right_vals.append((x_vals[r + 1] - x_vals[r]) * vals[r + 1])\n",
    "    r += 1\n",
    "#subtracted 1 in both of the while loop statements because \n",
    "#otherwise there would be an \"index out of bounds\" error\n",
    "    \n",
    "while a < len(left_vals): #average\n",
    "    avg_vals.append((right_vals[a] + left_vals[a])/2)\n",
    "    a += 1\n",
    "integral = sum(avg_vals) #sum"
   ]
  },
  {
   "cell_type": "markdown",
   "id": "95659813",
   "metadata": {},
   "source": [
    "Printing out all the values:"
   ]
  },
  {
   "cell_type": "code",
   "execution_count": 7,
   "id": "d3755f0a",
   "metadata": {},
   "outputs": [
    {
     "name": "stdout",
     "output_type": "stream",
     "text": [
      "mean: 9.083333333333334\n",
      "median: 7.0\n",
      "variance: 28.711388888888887\n",
      "standard deviation: 5.358300933028014\n",
      "derivatives: [-1.0999999999999996, -1.55, 5.8999999999999995, 6.55, -4.35, -8.0]\n",
      "integral: 47.5\n"
     ]
    }
   ],
   "source": [
    "print(\"mean: \" + str(mean))\n",
    "print(\"median: \" + str(median))\n",
    "print(\"variance: \" + str(variance))\n",
    "print(\"standard deviation: \" + str(standard_deviation))\n",
    "print(\"derivatives: \" + str(derivative_vals))\n",
    "print(\"integral: \" + str(integral))"
   ]
  }
 ],
 "metadata": {
  "kernelspec": {
   "display_name": "Python 3 (ipykernel)",
   "language": "python",
   "name": "python3"
  },
  "language_info": {
   "codemirror_mode": {
    "name": "ipython",
    "version": 3
   },
   "file_extension": ".py",
   "mimetype": "text/x-python",
   "name": "python",
   "nbconvert_exporter": "python",
   "pygments_lexer": "ipython3",
   "version": "3.10.5"
  }
 },
 "nbformat": 4,
 "nbformat_minor": 5
}
